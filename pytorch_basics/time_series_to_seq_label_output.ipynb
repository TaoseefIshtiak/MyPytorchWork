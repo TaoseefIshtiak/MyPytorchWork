{
 "cells": [
  {
   "cell_type": "code",
   "execution_count": 1,
   "metadata": {},
   "outputs": [],
   "source": [
    "#function that will take in a time series training data set, and output a tensor of (seq, label) tuples\n",
    "def create_train_data(seq,ws=12):\n",
    "    \"\"\"Takes in a training sequence and window size (ws) of\n",
    "       default size 12, returns a tensor of (seq/label) tuples\"\"\"\n",
    "    seq_norm = scaler.fit_transform(seq.reshape(-1, 1))    \n",
    "    seq_norm = torch.FloatTensor(seq_norm).view(-1)\n",
    "\n",
    "    out = []\n",
    "    L = len(seq_norm)\n",
    "    for i in range(L-ws):\n",
    "        window = seq_norm[i:i+ws]\n",
    "        label = seq_norm[i+ws:i+ws+1]\n",
    "        out.append((window,label))\n",
    "    return out"
   ]
  },
  {
   "cell_type": "code",
   "execution_count": 2,
   "metadata": {},
   "outputs": [
    {
     "name": "stdout",
     "output_type": "stream",
     "text": [
      "Help on function create_train_data in module __main__:\n",
      "\n",
      "create_train_data(seq, ws=12)\n",
      "    Takes in a training sequence and window size (ws) of\n",
      "    default size 12, returns a tensor of (seq/label) tuples\n",
      "\n"
     ]
    }
   ],
   "source": [
    "help(create_train_data)"
   ]
  },
  {
   "cell_type": "code",
   "execution_count": null,
   "metadata": {},
   "outputs": [],
   "source": []
  }
 ],
 "metadata": {
  "kernelspec": {
   "display_name": "Python 3",
   "language": "python",
   "name": "python3"
  },
  "language_info": {
   "codemirror_mode": {
    "name": "ipython",
    "version": 3
   },
   "file_extension": ".py",
   "mimetype": "text/x-python",
   "name": "python",
   "nbconvert_exporter": "python",
   "pygments_lexer": "ipython3",
   "version": "3.7.3"
  }
 },
 "nbformat": 4,
 "nbformat_minor": 4
}
