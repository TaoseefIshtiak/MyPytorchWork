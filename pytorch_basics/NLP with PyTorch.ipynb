{
 "cells": [
  {
   "cell_type": "code",
   "execution_count": 3,
   "metadata": {},
   "outputs": [],
   "source": [
    "import torch\n",
    "from torch import nn\n",
    "import torch.nn.functional as F\n",
    "\n",
    "import numpy as np\n",
    "import matplotlib.pyplot as plt\n",
    "%matplotlib inline"
   ]
  },
  {
   "cell_type": "code",
   "execution_count": 4,
   "metadata": {},
   "outputs": [],
   "source": [
    "with open('C:\\\\Works\\\\Personal\\\\repo\\\\PYTORCH_NOTEBOOKS\\\\Data\\\\shakespeare.txt','r',encoding='utf8') as f:\n",
    "    text = f.read()"
   ]
  },
  {
   "cell_type": "code",
   "execution_count": 5,
   "metadata": {},
   "outputs": [
    {
     "data": {
      "text/plain": [
       "str"
      ]
     },
     "execution_count": 5,
     "metadata": {},
     "output_type": "execute_result"
    }
   ],
   "source": [
    "type(text)"
   ]
  },
  {
   "cell_type": "code",
   "execution_count": 6,
   "metadata": {},
   "outputs": [
    {
     "name": "stdout",
     "output_type": "stream",
     "text": [
      "\n",
      "                     1\n",
      "  From fairest creatures we desire increase,\n",
      "  That thereby beauty's rose might never die,\n",
      "  But as the riper should by time decease,\n",
      "  His tender heir might bear his memory:\n",
      "  But thou contracted to thine own bright eyes,\n",
      "  Feed'st thy light's flame with self-substantial fuel,\n",
      "  Making a famine where abundance lies,\n",
      "  Thy self thy foe, to thy sweet self too cruel:\n",
      "  Thou that art now the world's fresh ornament,\n",
      "  And only herald to the gaudy spring,\n",
      "  Within thine own bud buriest thy content,\n",
      "  And tender churl mak'st waste in niggarding:\n",
      "    Pity the world, or else this glutton be,\n",
      "    To eat the world's due, by the grave and thee.\n",
      "\n",
      "\n",
      "                     2\n",
      "  When forty winters shall besiege thy brow,\n",
      "  And dig deep trenches in thy beauty's field,\n",
      "  Thy youth's proud livery so gazed on now,\n",
      "  Will be a tattered weed of small worth held:  \n",
      "  Then being asked, where all thy beauty lies,\n",
      "  Where all the treasure of thy lusty days;\n",
      "  To say within thine own deep su\n"
     ]
    }
   ],
   "source": [
    "print(text[:1000])"
   ]
  },
  {
   "cell_type": "code",
   "execution_count": 7,
   "metadata": {},
   "outputs": [
    {
     "data": {
      "text/plain": [
       "5445609"
      ]
     },
     "execution_count": 7,
     "metadata": {},
     "output_type": "execute_result"
    }
   ],
   "source": [
    "len(text) #no of characters in the entire text"
   ]
  },
  {
   "cell_type": "code",
   "execution_count": 8,
   "metadata": {},
   "outputs": [],
   "source": [
    "all_characters = set(text)"
   ]
  },
  {
   "cell_type": "code",
   "execution_count": 9,
   "metadata": {},
   "outputs": [
    {
     "data": {
      "text/plain": [
       "{'\\n',\n",
       " ' ',\n",
       " '!',\n",
       " '\"',\n",
       " '&',\n",
       " \"'\",\n",
       " '(',\n",
       " ')',\n",
       " ',',\n",
       " '-',\n",
       " '.',\n",
       " '0',\n",
       " '1',\n",
       " '2',\n",
       " '3',\n",
       " '4',\n",
       " '5',\n",
       " '6',\n",
       " '7',\n",
       " '8',\n",
       " '9',\n",
       " ':',\n",
       " ';',\n",
       " '<',\n",
       " '>',\n",
       " '?',\n",
       " 'A',\n",
       " 'B',\n",
       " 'C',\n",
       " 'D',\n",
       " 'E',\n",
       " 'F',\n",
       " 'G',\n",
       " 'H',\n",
       " 'I',\n",
       " 'J',\n",
       " 'K',\n",
       " 'L',\n",
       " 'M',\n",
       " 'N',\n",
       " 'O',\n",
       " 'P',\n",
       " 'Q',\n",
       " 'R',\n",
       " 'S',\n",
       " 'T',\n",
       " 'U',\n",
       " 'V',\n",
       " 'W',\n",
       " 'X',\n",
       " 'Y',\n",
       " 'Z',\n",
       " '[',\n",
       " ']',\n",
       " '_',\n",
       " '`',\n",
       " 'a',\n",
       " 'b',\n",
       " 'c',\n",
       " 'd',\n",
       " 'e',\n",
       " 'f',\n",
       " 'g',\n",
       " 'h',\n",
       " 'i',\n",
       " 'j',\n",
       " 'k',\n",
       " 'l',\n",
       " 'm',\n",
       " 'n',\n",
       " 'o',\n",
       " 'p',\n",
       " 'q',\n",
       " 'r',\n",
       " 's',\n",
       " 't',\n",
       " 'u',\n",
       " 'v',\n",
       " 'w',\n",
       " 'x',\n",
       " 'y',\n",
       " 'z',\n",
       " '|',\n",
       " '}'}"
      ]
     },
     "execution_count": 9,
     "metadata": {},
     "output_type": "execute_result"
    }
   ],
   "source": [
    "all_characters"
   ]
  },
  {
   "cell_type": "code",
   "execution_count": 10,
   "metadata": {},
   "outputs": [
    {
     "data": {
      "text/plain": [
       "84"
      ]
     },
     "execution_count": 10,
     "metadata": {},
     "output_type": "execute_result"
    }
   ],
   "source": [
    "len(all_characters)"
   ]
  },
  {
   "cell_type": "code",
   "execution_count": 11,
   "metadata": {},
   "outputs": [
    {
     "name": "stdout",
     "output_type": "stream",
     "text": [
      "(0, '|')\n",
      "(1, '1')\n",
      "(2, '4')\n",
      "(3, 'K')\n",
      "(4, 'n')\n",
      "(5, 'v')\n",
      "(6, 'O')\n",
      "(7, 'P')\n",
      "(8, 'u')\n",
      "(9, '\\n')\n",
      "(10, 'l')\n",
      "(11, '5')\n",
      "(12, '?')\n",
      "(13, 'g')\n",
      "(14, '8')\n",
      "(15, 's')\n",
      "(16, 'z')\n",
      "(17, 'Z')\n",
      "(18, 'R')\n",
      "(19, 'J')\n",
      "(20, 't')\n",
      "(21, 'y')\n",
      "(22, '2')\n",
      "(23, '_')\n",
      "(24, 'M')\n",
      "(25, 'o')\n",
      "(26, 'w')\n",
      "(27, '`')\n",
      "(28, ' ')\n",
      "(29, 'Y')\n",
      "(30, 'j')\n",
      "(31, \"'\")\n",
      "(32, ',')\n",
      "(33, 'r')\n",
      "(34, ')')\n",
      "(35, ';')\n",
      "(36, '9')\n",
      "(37, 'm')\n",
      "(38, 'a')\n",
      "(39, 'B')\n",
      "(40, 'T')\n",
      "(41, '0')\n",
      "(42, 'D')\n",
      "(43, 'W')\n",
      "(44, 'i')\n",
      "(45, 'A')\n",
      "(46, 'f')\n",
      "(47, '3')\n",
      "(48, 'x')\n",
      "(49, 'X')\n",
      "(50, 'C')\n",
      "(51, '}')\n",
      "(52, 'G')\n",
      "(53, '(')\n",
      "(54, 'U')\n",
      "(55, '&')\n",
      "(56, 'd')\n",
      "(57, '7')\n",
      "(58, 'H')\n",
      "(59, 'p')\n",
      "(60, '.')\n",
      "(61, 'N')\n",
      "(62, '\"')\n",
      "(63, '-')\n",
      "(64, ']')\n",
      "(65, '6')\n",
      "(66, 'E')\n",
      "(67, 'c')\n",
      "(68, 'V')\n",
      "(69, 'e')\n",
      "(70, '>')\n",
      "(71, 'b')\n",
      "(72, 'L')\n",
      "(73, '!')\n",
      "(74, '[')\n",
      "(75, '<')\n",
      "(76, 'h')\n",
      "(77, 'I')\n",
      "(78, 'k')\n",
      "(79, 'q')\n",
      "(80, ':')\n",
      "(81, 'Q')\n",
      "(82, 'S')\n",
      "(83, 'F')\n"
     ]
    }
   ],
   "source": [
    "for i in enumerate(all_characters):\n",
    "    print(i)"
   ]
  },
  {
   "cell_type": "code",
   "execution_count": 12,
   "metadata": {},
   "outputs": [],
   "source": [
    "decoder = dict(enumerate(all_characters))"
   ]
  },
  {
   "cell_type": "code",
   "execution_count": 13,
   "metadata": {},
   "outputs": [
    {
     "data": {
      "text/plain": [
       "{0: '|',\n",
       " 1: '1',\n",
       " 2: '4',\n",
       " 3: 'K',\n",
       " 4: 'n',\n",
       " 5: 'v',\n",
       " 6: 'O',\n",
       " 7: 'P',\n",
       " 8: 'u',\n",
       " 9: '\\n',\n",
       " 10: 'l',\n",
       " 11: '5',\n",
       " 12: '?',\n",
       " 13: 'g',\n",
       " 14: '8',\n",
       " 15: 's',\n",
       " 16: 'z',\n",
       " 17: 'Z',\n",
       " 18: 'R',\n",
       " 19: 'J',\n",
       " 20: 't',\n",
       " 21: 'y',\n",
       " 22: '2',\n",
       " 23: '_',\n",
       " 24: 'M',\n",
       " 25: 'o',\n",
       " 26: 'w',\n",
       " 27: '`',\n",
       " 28: ' ',\n",
       " 29: 'Y',\n",
       " 30: 'j',\n",
       " 31: \"'\",\n",
       " 32: ',',\n",
       " 33: 'r',\n",
       " 34: ')',\n",
       " 35: ';',\n",
       " 36: '9',\n",
       " 37: 'm',\n",
       " 38: 'a',\n",
       " 39: 'B',\n",
       " 40: 'T',\n",
       " 41: '0',\n",
       " 42: 'D',\n",
       " 43: 'W',\n",
       " 44: 'i',\n",
       " 45: 'A',\n",
       " 46: 'f',\n",
       " 47: '3',\n",
       " 48: 'x',\n",
       " 49: 'X',\n",
       " 50: 'C',\n",
       " 51: '}',\n",
       " 52: 'G',\n",
       " 53: '(',\n",
       " 54: 'U',\n",
       " 55: '&',\n",
       " 56: 'd',\n",
       " 57: '7',\n",
       " 58: 'H',\n",
       " 59: 'p',\n",
       " 60: '.',\n",
       " 61: 'N',\n",
       " 62: '\"',\n",
       " 63: '-',\n",
       " 64: ']',\n",
       " 65: '6',\n",
       " 66: 'E',\n",
       " 67: 'c',\n",
       " 68: 'V',\n",
       " 69: 'e',\n",
       " 70: '>',\n",
       " 71: 'b',\n",
       " 72: 'L',\n",
       " 73: '!',\n",
       " 74: '[',\n",
       " 75: '<',\n",
       " 76: 'h',\n",
       " 77: 'I',\n",
       " 78: 'k',\n",
       " 79: 'q',\n",
       " 80: ':',\n",
       " 81: 'Q',\n",
       " 82: 'S',\n",
       " 83: 'F'}"
      ]
     },
     "execution_count": 13,
     "metadata": {},
     "output_type": "execute_result"
    }
   ],
   "source": [
    "decoder"
   ]
  },
  {
   "cell_type": "code",
   "execution_count": 14,
   "metadata": {},
   "outputs": [
    {
     "data": {
      "text/plain": [
       "dict_items([(0, '|'), (1, '1'), (2, '4'), (3, 'K'), (4, 'n'), (5, 'v'), (6, 'O'), (7, 'P'), (8, 'u'), (9, '\\n'), (10, 'l'), (11, '5'), (12, '?'), (13, 'g'), (14, '8'), (15, 's'), (16, 'z'), (17, 'Z'), (18, 'R'), (19, 'J'), (20, 't'), (21, 'y'), (22, '2'), (23, '_'), (24, 'M'), (25, 'o'), (26, 'w'), (27, '`'), (28, ' '), (29, 'Y'), (30, 'j'), (31, \"'\"), (32, ','), (33, 'r'), (34, ')'), (35, ';'), (36, '9'), (37, 'm'), (38, 'a'), (39, 'B'), (40, 'T'), (41, '0'), (42, 'D'), (43, 'W'), (44, 'i'), (45, 'A'), (46, 'f'), (47, '3'), (48, 'x'), (49, 'X'), (50, 'C'), (51, '}'), (52, 'G'), (53, '('), (54, 'U'), (55, '&'), (56, 'd'), (57, '7'), (58, 'H'), (59, 'p'), (60, '.'), (61, 'N'), (62, '\"'), (63, '-'), (64, ']'), (65, '6'), (66, 'E'), (67, 'c'), (68, 'V'), (69, 'e'), (70, '>'), (71, 'b'), (72, 'L'), (73, '!'), (74, '['), (75, '<'), (76, 'h'), (77, 'I'), (78, 'k'), (79, 'q'), (80, ':'), (81, 'Q'), (82, 'S'), (83, 'F')])"
      ]
     },
     "execution_count": 14,
     "metadata": {},
     "output_type": "execute_result"
    }
   ],
   "source": [
    "decoder.items()"
   ]
  },
  {
   "cell_type": "code",
   "execution_count": 15,
   "metadata": {},
   "outputs": [],
   "source": [
    "encoder = {char: ind for ind,char in decoder.items()}"
   ]
  },
  {
   "cell_type": "code",
   "execution_count": 16,
   "metadata": {},
   "outputs": [
    {
     "data": {
      "text/plain": [
       "{'|': 0,\n",
       " '1': 1,\n",
       " '4': 2,\n",
       " 'K': 3,\n",
       " 'n': 4,\n",
       " 'v': 5,\n",
       " 'O': 6,\n",
       " 'P': 7,\n",
       " 'u': 8,\n",
       " '\\n': 9,\n",
       " 'l': 10,\n",
       " '5': 11,\n",
       " '?': 12,\n",
       " 'g': 13,\n",
       " '8': 14,\n",
       " 's': 15,\n",
       " 'z': 16,\n",
       " 'Z': 17,\n",
       " 'R': 18,\n",
       " 'J': 19,\n",
       " 't': 20,\n",
       " 'y': 21,\n",
       " '2': 22,\n",
       " '_': 23,\n",
       " 'M': 24,\n",
       " 'o': 25,\n",
       " 'w': 26,\n",
       " '`': 27,\n",
       " ' ': 28,\n",
       " 'Y': 29,\n",
       " 'j': 30,\n",
       " \"'\": 31,\n",
       " ',': 32,\n",
       " 'r': 33,\n",
       " ')': 34,\n",
       " ';': 35,\n",
       " '9': 36,\n",
       " 'm': 37,\n",
       " 'a': 38,\n",
       " 'B': 39,\n",
       " 'T': 40,\n",
       " '0': 41,\n",
       " 'D': 42,\n",
       " 'W': 43,\n",
       " 'i': 44,\n",
       " 'A': 45,\n",
       " 'f': 46,\n",
       " '3': 47,\n",
       " 'x': 48,\n",
       " 'X': 49,\n",
       " 'C': 50,\n",
       " '}': 51,\n",
       " 'G': 52,\n",
       " '(': 53,\n",
       " 'U': 54,\n",
       " '&': 55,\n",
       " 'd': 56,\n",
       " '7': 57,\n",
       " 'H': 58,\n",
       " 'p': 59,\n",
       " '.': 60,\n",
       " 'N': 61,\n",
       " '\"': 62,\n",
       " '-': 63,\n",
       " ']': 64,\n",
       " '6': 65,\n",
       " 'E': 66,\n",
       " 'c': 67,\n",
       " 'V': 68,\n",
       " 'e': 69,\n",
       " '>': 70,\n",
       " 'b': 71,\n",
       " 'L': 72,\n",
       " '!': 73,\n",
       " '[': 74,\n",
       " '<': 75,\n",
       " 'h': 76,\n",
       " 'I': 77,\n",
       " 'k': 78,\n",
       " 'q': 79,\n",
       " ':': 80,\n",
       " 'Q': 81,\n",
       " 'S': 82,\n",
       " 'F': 83}"
      ]
     },
     "execution_count": 16,
     "metadata": {},
     "output_type": "execute_result"
    }
   ],
   "source": [
    "encoder"
   ]
  },
  {
   "cell_type": "code",
   "execution_count": 17,
   "metadata": {},
   "outputs": [],
   "source": [
    "encoded_text = np.array([encoder[char] for char in text])"
   ]
  },
  {
   "cell_type": "code",
   "execution_count": 18,
   "metadata": {},
   "outputs": [
    {
     "data": {
      "text/plain": [
       "array([ 9, 28, 28, 28, 28, 28, 28, 28, 28, 28, 28, 28, 28, 28, 28, 28, 28,\n",
       "       28, 28, 28, 28, 28,  1,  9, 28, 28, 83, 33, 25, 37, 28, 46, 38, 44,\n",
       "       33, 69, 15, 20, 28, 67, 33, 69, 38, 20,  8, 33, 69, 15, 28, 26, 69,\n",
       "       28, 56, 69, 15, 44, 33, 69, 28, 44,  4, 67, 33, 69, 38, 15, 69, 32,\n",
       "        9, 28, 28, 40, 76, 38, 20, 28, 20, 76, 69, 33, 69, 71, 21, 28, 71,\n",
       "       69, 38,  8, 20, 21, 31, 15, 28, 33, 25, 15, 69, 28, 37, 44, 13, 76,\n",
       "       20, 28,  4, 69,  5, 69, 33, 28, 56, 44, 69, 32,  9, 28, 28, 39,  8,\n",
       "       20, 28, 38, 15, 28, 20, 76, 69, 28, 33, 44, 59, 69, 33, 28, 15, 76,\n",
       "       25,  8, 10, 56, 28, 71, 21, 28, 20, 44, 37, 69, 28, 56, 69, 67, 69,\n",
       "       38, 15, 69, 32,  9, 28, 28, 58, 44, 15, 28, 20, 69,  4, 56, 69, 33,\n",
       "       28, 76, 69, 44, 33, 28, 37, 44, 13, 76, 20, 28, 71, 69, 38, 33, 28,\n",
       "       76, 44, 15, 28, 37, 69, 37, 25, 33, 21, 80,  9, 28, 28, 39,  8, 20,\n",
       "       28, 20, 76, 25,  8, 28, 67, 25,  4, 20, 33, 38, 67, 20, 69, 56, 28,\n",
       "       20, 25, 28, 20, 76, 44,  4, 69, 28, 25, 26,  4, 28, 71, 33, 44, 13,\n",
       "       76, 20, 28, 69, 21, 69, 15, 32,  9, 28, 28, 83, 69, 69, 56, 31, 15,\n",
       "       20, 28, 20, 76, 21, 28, 10, 44, 13, 76, 20, 31, 15, 28, 46, 10, 38,\n",
       "       37, 69, 28, 26, 44, 20, 76, 28, 15, 69, 10, 46, 63, 15,  8, 71, 15,\n",
       "       20, 38,  4, 20, 44, 38, 10, 28, 46,  8, 69, 10, 32,  9, 28, 28, 24,\n",
       "       38, 78, 44,  4, 13, 28, 38, 28, 46, 38, 37, 44,  4, 69, 28, 26, 76,\n",
       "       69, 33, 69, 28, 38, 71,  8,  4, 56, 38,  4, 67, 69, 28, 10, 44, 69,\n",
       "       15, 32,  9, 28, 28, 40, 76, 21, 28, 15, 69, 10, 46, 28, 20, 76, 21,\n",
       "       28, 46, 25, 69, 32, 28, 20, 25, 28, 20, 76, 21, 28, 15, 26, 69, 69,\n",
       "       20, 28, 15, 69, 10, 46, 28, 20, 25, 25, 28, 67, 33,  8, 69, 10, 80,\n",
       "        9, 28, 28, 40, 76, 25,  8, 28, 20, 76, 38, 20, 28, 38, 33, 20, 28,\n",
       "        4, 25, 26, 28, 20, 76, 69, 28, 26, 25, 33, 10, 56, 31, 15, 28, 46,\n",
       "       33, 69, 15, 76, 28, 25, 33,  4, 38, 37, 69,  4, 20, 32,  9, 28, 28,\n",
       "       45,  4, 56, 28, 25,  4, 10, 21, 28, 76, 69, 33, 38, 10, 56, 28, 20,\n",
       "       25, 28, 20, 76, 69, 28, 13, 38,  8, 56, 21, 28, 15, 59, 33, 44,  4,\n",
       "       13, 32,  9, 28, 28, 43, 44, 20, 76, 44,  4, 28, 20, 76, 44,  4, 69,\n",
       "       28, 25, 26,  4, 28, 71,  8])"
      ]
     },
     "execution_count": 18,
     "metadata": {},
     "output_type": "execute_result"
    }
   ],
   "source": [
    "encoded_text[:500]"
   ]
  },
  {
   "cell_type": "code",
   "execution_count": 19,
   "metadata": {},
   "outputs": [],
   "source": [
    "def one_hot_encoder(encoded_text, num_uni_chars):\n",
    "    '''\n",
    "    encoded_text : batch of encoded text\n",
    "    \n",
    "    num_uni_chars = number of unique characters (len(set(text)))\n",
    "    '''\n",
    "    \n",
    "    # method obtained from:\n",
    "    # https://stackoverflow.com/questions/29831489/convert-encoded_textay-of-indices-to-1-hot-encoded-numpy-encoded_textay\n",
    "      \n",
    "    # creating a placeholder for zeros.\n",
    "    one_hot = np.zeros((encoded_text.size, num_uni_chars))\n",
    "    \n",
    "    # converting data type for later use with pytorch (errors if we dont!)\n",
    "    one_hot = one_hot.astype(np.float32)\n",
    "\n",
    "    # using fancy indexing fill in the 1s at the correct index locations\n",
    "    one_hot[np.arange(one_hot.shape[0]), encoded_text.flatten()] = 1.0\n",
    "    \n",
    "\n",
    "    # reshaping it so it matches the batch sahe\n",
    "    one_hot = one_hot.reshape((*encoded_text.shape, num_uni_chars))\n",
    "    \n",
    "    return one_hot"
   ]
  },
  {
   "cell_type": "code",
   "execution_count": 20,
   "metadata": {},
   "outputs": [],
   "source": [
    "#small example of one hot encoding\n",
    "arr = np.array([1,2,0])"
   ]
  },
  {
   "cell_type": "code",
   "execution_count": 21,
   "metadata": {},
   "outputs": [
    {
     "data": {
      "text/plain": [
       "array([1, 2, 0])"
      ]
     },
     "execution_count": 21,
     "metadata": {},
     "output_type": "execute_result"
    }
   ],
   "source": [
    "arr"
   ]
  },
  {
   "cell_type": "code",
   "execution_count": 22,
   "metadata": {},
   "outputs": [
    {
     "data": {
      "text/plain": [
       "array([[0., 1., 0.],\n",
       "       [0., 0., 1.],\n",
       "       [1., 0., 0.]], dtype=float32)"
      ]
     },
     "execution_count": 22,
     "metadata": {},
     "output_type": "execute_result"
    }
   ],
   "source": [
    "one_hot_encoder(arr, 3)"
   ]
  },
  {
   "cell_type": "code",
   "execution_count": 23,
   "metadata": {},
   "outputs": [],
   "source": [
    "def generate_batches(encoded_text, samp_per_batch=10, seq_len=50):\n",
    "    \n",
    "    '''\n",
    "    Generating (using yield) batches for training.\n",
    "    \n",
    "    X: Encoded Text of length seq_len\n",
    "    Y: Encoded Text shifted by one\n",
    "    Example:\n",
    "    X:\n",
    "    [[1 2 3]]\n",
    "    \n",
    "    Y:\n",
    "    [[ 2 3 4]]\n",
    "    encoded_text : Completing Encoded Text to make batches from batch_size : Number of samples per batch seq_len : \n",
    "    Length of character sequence\n",
    "       \n",
    "    '''\n",
    "    # Total number of characters per batch\n",
    "    # Example: If samp_per_batch is 2 and seq_len is 50, then 100  characters come out per batch.\n",
    "    char_per_batch = samp_per_batch * seq_len\n",
    "    \n",
    "    \n",
    "    # Number of batches available to make\n",
    "    # using int() to roun to nearest integer\n",
    "    num_batches_avail = int(len(encoded_text)/char_per_batch)\n",
    "    \n",
    "    # cutting off end of encoded_text that\n",
    "    # won't fit evenly into a batch\n",
    "    encoded_text = encoded_text[:num_batches_avail * char_per_batch]\n",
    "    \n",
    "    \n",
    "    # Reshape text into rows the size of a batch\n",
    "    encoded_text = encoded_text.reshape((samp_per_batch, -1))\n",
    "    \n",
    "\n",
    "    # Go through each row in array.\n",
    "    for n in range(0, encoded_text.shape[1], seq_len):\n",
    "        \n",
    "        # Grab feature characters\n",
    "        x = encoded_text[:, n:n+seq_len]\n",
    "        \n",
    "        # y is the target shifted over by 1\n",
    "        y = np.zeros_like(x)\n",
    "       \n",
    "        #\n",
    "        try:\n",
    "            y[:, :-1] = x[:, 1:]\n",
    "            y[:, -1]  = encoded_text[:, n+seq_len]\n",
    "            \n",
    "        # FOR POTENTIAL INDEXING ERROR AT THE END    \n",
    "        except:\n",
    "            y[:, :-1] = x[:, 1:]\n",
    "            y[:, -1] = encoded_text[:, 0]\n",
    "            \n",
    "        yield x, y"
   ]
  },
  {
   "cell_type": "code",
   "execution_count": 24,
   "metadata": {},
   "outputs": [],
   "source": [
    "sample_text = encoded_text[:20]"
   ]
  },
  {
   "cell_type": "code",
   "execution_count": 25,
   "metadata": {},
   "outputs": [
    {
     "data": {
      "text/plain": [
       "array([ 9, 28, 28, 28, 28, 28, 28, 28, 28, 28, 28, 28, 28, 28, 28, 28, 28,\n",
       "       28, 28, 28])"
      ]
     },
     "execution_count": 25,
     "metadata": {},
     "output_type": "execute_result"
    }
   ],
   "source": [
    "sample_text"
   ]
  },
  {
   "cell_type": "code",
   "execution_count": 26,
   "metadata": {},
   "outputs": [],
   "source": [
    "batch_generator = generate_batches(sample_text,samp_per_batch=2,seq_len=5) "
   ]
  },
  {
   "cell_type": "code",
   "execution_count": 27,
   "metadata": {},
   "outputs": [],
   "source": [
    "x, y  = next(batch_generator)"
   ]
  },
  {
   "cell_type": "code",
   "execution_count": 28,
   "metadata": {},
   "outputs": [
    {
     "data": {
      "text/plain": [
       "array([[ 9, 28, 28, 28, 28],\n",
       "       [28, 28, 28, 28, 28]])"
      ]
     },
     "execution_count": 28,
     "metadata": {},
     "output_type": "execute_result"
    }
   ],
   "source": [
    "x"
   ]
  },
  {
   "cell_type": "code",
   "execution_count": 29,
   "metadata": {},
   "outputs": [
    {
     "data": {
      "text/plain": [
       "array([[28, 28, 28, 28, 28],\n",
       "       [28, 28, 28, 28, 28]])"
      ]
     },
     "execution_count": 29,
     "metadata": {},
     "output_type": "execute_result"
    }
   ],
   "source": [
    "y"
   ]
  },
  {
   "cell_type": "code",
   "execution_count": 30,
   "metadata": {},
   "outputs": [
    {
     "data": {
      "text/plain": [
       "False"
      ]
     },
     "execution_count": 30,
     "metadata": {},
     "output_type": "execute_result"
    }
   ],
   "source": [
    "torch.cuda.is_available()"
   ]
  },
  {
   "cell_type": "code",
   "execution_count": null,
   "metadata": {},
   "outputs": [],
   "source": []
  }
 ],
 "metadata": {
  "kernelspec": {
   "display_name": "Python 3",
   "language": "python",
   "name": "python3"
  },
  "language_info": {
   "codemirror_mode": {
    "name": "ipython",
    "version": 3
   },
   "file_extension": ".py",
   "mimetype": "text/x-python",
   "name": "python",
   "nbconvert_exporter": "python",
   "pygments_lexer": "ipython3",
   "version": "3.7.3"
  }
 },
 "nbformat": 4,
 "nbformat_minor": 4
}
